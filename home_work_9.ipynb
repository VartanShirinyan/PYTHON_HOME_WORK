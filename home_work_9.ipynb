{
  "nbformat": 4,
  "nbformat_minor": 0,
  "metadata": {
    "colab": {
      "provenance": [],
      "authorship_tag": "ABX9TyOj/eUy59nbR8llMVk37wR5",
      "include_colab_link": true
    },
    "kernelspec": {
      "name": "python3",
      "display_name": "Python 3"
    },
    "language_info": {
      "name": "python"
    }
  },
  "cells": [
    {
      "cell_type": "markdown",
      "metadata": {
        "id": "view-in-github",
        "colab_type": "text"
      },
      "source": [
        "<a href=\"https://colab.research.google.com/github/VartanShirinyan/PYTHON_HOME_WORK/blob/main/home_work_9.ipynb\" target=\"_parent\"><img src=\"https://colab.research.google.com/assets/colab-badge.svg\" alt=\"Open In Colab\"/></a>"
      ]
    },
    {
      "cell_type": "markdown",
      "source": [
        "# home_work_9\n",
        "## Задача 40: Работать с файлом california_housing_train.csv, который находится в папке sample_data. \n",
        "## - Определить среднюю стоимость дома, где кол-во людей от 0 до 500 (population)."
      ],
      "metadata": {
        "id": "eUVLt5PBlN4m"
      }
    },
    {
      "cell_type": "code",
      "execution_count": 2,
      "metadata": {
        "id": "ayRFlG3XVOYL"
      },
      "outputs": [],
      "source": [
        "import pandas as pd\n",
        "\n",
        "df = pd.read_csv('/content/sample_data/california_housing_train.csv')"
      ]
    },
    {
      "cell_type": "code",
      "source": [
        "# Отфильтровать дома с population от 0 до 500 и определить среднюю стоимость дома\n",
        "mean_house_value = df[df['population'] <= 500]['median_house_value'].mean()"
      ],
      "metadata": {
        "id": "lBB4Z3Oxr_-E"
      },
      "execution_count": 16,
      "outputs": []
    },
    {
      "cell_type": "code",
      "source": [
        "# Вывести результат\n",
        "print('Средняя стоимость дома для домов с population от 0 до 500:', mean_house_value)"
      ],
      "metadata": {
        "colab": {
          "base_uri": "https://localhost:8080/"
        },
        "id": "KvqM6UXGsIyt",
        "outputId": "9cb4fb11-0daf-4c7d-dbec-87aad564f47d"
      },
      "execution_count": 18,
      "outputs": [
        {
          "output_type": "stream",
          "name": "stdout",
          "text": [
            "Средняя стоимость дома для домов с population от 0 до 500: 206799.95140186916\n"
          ]
        }
      ]
    },
    {
      "cell_type": "code",
      "source": [],
      "metadata": {
        "id": "vqYs6b0gtC0E"
      },
      "execution_count": null,
      "outputs": []
    },
    {
      "cell_type": "markdown",
      "source": [
        "## Задача 42: Узнать какая максимальная households в зоне минимального значения population."
      ],
      "metadata": {
        "id": "KoEQpFGqtIPU"
      }
    },
    {
      "cell_type": "code",
      "source": [
        "import pandas as pd\n",
        "\n",
        "df = pd.read_csv('/content/sample_data/california_housing_train.csv')"
      ],
      "metadata": {
        "id": "aNyHms4H1mOf"
      },
      "execution_count": 39,
      "outputs": []
    },
    {
      "cell_type": "code",
      "source": [
        "# Отфильтровать дома с минимальным значением population и определить максимальное значение домохозяйств\n",
        "maximum_of_households = df[df['population'] == df['population'].min()]['households'].max()"
      ],
      "metadata": {
        "id": "--R1tG0dtKy8"
      },
      "execution_count": 35,
      "outputs": []
    },
    {
      "cell_type": "code",
      "source": [
        "# Вывести результат\n",
        "print('Максимальное значение households в зоне минимального значения population:', maximum_of_households)"
      ],
      "metadata": {
        "colab": {
          "base_uri": "https://localhost:8080/"
        },
        "id": "TV9r70LhxKyp",
        "outputId": "dd3bb9eb-98c8-484e-ff5d-2fbd245cf297"
      },
      "execution_count": 40,
      "outputs": [
        {
          "output_type": "stream",
          "name": "stdout",
          "text": [
            "Максимальное значение households в зоне минимального значения population: 4.0\n"
          ]
        }
      ]
    }
  ]
}